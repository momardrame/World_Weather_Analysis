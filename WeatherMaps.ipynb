{
 "cells": [
  {
   "cell_type": "code",
   "execution_count": null,
   "metadata": {},
   "outputs": [],
   "source": [
    "#import the dependencies\n",
    "import pandas as pd\n",
    "import gmaps\n",
    "import requests\n",
    "\n",
    "#Import the API key\n",
    "from config import g_key"
   ]
  },
  {
   "cell_type": "code",
   "execution_count": null,
   "metadata": {},
   "outputs": [],
   "source": [
    "#store the CSV you saved into a DataFrame\n",
    "city_data_df =pd.read_csv(\"weather_data/cities.csv\")\n",
    "city_data_df "
   ]
  },
  {
   "cell_type": "code",
   "execution_count": null,
   "metadata": {},
   "outputs": [],
   "source": [
    "# Configure gmaps to use you Google API key\n",
    "gmaps.configure(api_key=g_key)"
   ]
  },
  {
   "cell_type": "code",
   "execution_count": null,
   "metadata": {},
   "outputs": [],
   "source": [
    "#Heatmap of temperature\n",
    "#Get the latitude and longitude\n",
    "locations = city_data_df[[\"Lat\", \"Long\"]]\n",
    "\n",
    "#Get the maximum temperature\n",
    "max_temp = city_data_df[\"Max Temp\"]\n",
    "temps=[]\n",
    "\n",
    "#Assign the heatmap variable\n",
    "heat_layer = gmaps.heatmap_layer(locations, weights=[max(temp,0) for temp in max_temp], \n",
    "                                 dissipating =False, max_intensity=300, point_radius=4)\n",
    "\n",
    "#Assign the figure variable\n",
    "fig =gmaps.figure(center=(30.0, 31.0), zoom_level=1.5)\n",
    "\n",
    "#Add the heatmap layer\n",
    "fig.add_layer(heat_layer)\n",
    "\n",
    "#Call the figure to plot the data\n",
    "fig"
   ]
  },
  {
   "cell_type": "code",
   "execution_count": null,
   "metadata": {},
   "outputs": [],
   "source": [
    "#Heatmap of humidity\n",
    "#Get the latitude and longitude\n",
    "locations = city_data_df[[\"Lat\", \"Long\"]]\n",
    "\n",
    "#Get the humidity\n",
    "humidity = city_data_df[\"Humidity\"]\n",
    "\n",
    "#Assign the heatmap variable\n",
    "heat_layer = gmaps.heatmap_layer(locations, weights=humidity, \n",
    "                                 dissipating =False, max_intensity=300, point_radius=4)\n",
    "\n",
    "#Assign the figure variable\n",
    "fig =gmaps.figure(center=(30.0, 31.0), zoom_level=1.5)\n",
    "\n",
    "#Add the heatmap layer\n",
    "fig.add_layer(heat_layer)\n",
    "\n",
    "#Call the figure to plot the data\n",
    "fig"
   ]
  },
  {
   "cell_type": "code",
   "execution_count": null,
   "metadata": {},
   "outputs": [],
   "source": [
    "#Heatmap of cloudiness\n",
    "#Get the latitude and longitude\n",
    "locations = city_data_df[[\"Lat\", \"Long\"]]\n",
    "\n",
    "#Get the cloudiness %\n",
    "cloudiness = city_data_df[\"Cloudiness\"]\n",
    "\n",
    "#Assign the heatmap variable\n",
    "heat_layer = gmaps.heatmap_layer(locations, weights=cloudiness, \n",
    "                                 dissipating =False, max_intensity=300, point_radius=4)\n",
    "\n",
    "#Assign the figure variable\n",
    "fig =gmaps.figure(center=(30.0, 31.0), zoom_level=1.5)\n",
    "\n",
    "#Add the heatmap layer\n",
    "fig.add_layer(heat_layer)\n",
    "\n",
    "#Call the figure to plot the data\n",
    "fig"
   ]
  },
  {
   "cell_type": "code",
   "execution_count": null,
   "metadata": {},
   "outputs": [],
   "source": [
    "#Heatmap of wind speed\n",
    "#Get the latitude and longitude\n",
    "locations = city_data_df[[\"Lat\", \"Long\"]]\n",
    "\n",
    "#Get the wind speed\n",
    "wind = city_data_df[\"Wind Speed\"]\n",
    "\n",
    "#Assign the heatmap variable\n",
    "heat_layer = gmaps.heatmap_layer(locations, weights=wind, \n",
    "                                 dissipating =False, max_intensity=300, point_radius=4)\n",
    "\n",
    "#Assign the figure variable\n",
    "fig =gmaps.figure(center=(30.0, 31.0), zoom_level=1.5)\n",
    "\n",
    "#Add the heatmap layer\n",
    "fig.add_layer(heat_layer)\n",
    "\n",
    "#Call the figure to plot the data\n",
    "fig"
   ]
  },
  {
   "cell_type": "code",
   "execution_count": null,
   "metadata": {},
   "outputs": [],
   "source": [
    "#Ask the customer to add a minimum and maximum temperature value.\n",
    "min_temp = float(input(\"What is the minimum temperature you would like for your trip? \"))\n",
    "max_temp = float(input(\"What is the maximum temperature you would like for your trip? \"))"
   ]
  },
  {
   "cell_type": "code",
   "execution_count": null,
   "metadata": {},
   "outputs": [],
   "source": [
    "#Filter the dataset to find the cities that fit the criteria\n",
    "preferred_city_df = city_data_df.loc[(city_data_df[\"Max Temp\"] >= min_temp) & (\"Max Temp\"] <= max_temp)]\n",
    "preferred_city_df.head(10)"
   ]
  },
  {
   "cell_type": "code",
   "execution_count": null,
   "metadata": {},
   "outputs": [],
   "source": []
  }
 ],
 "metadata": {
  "kernelspec": {
   "display_name": "PythonData",
   "language": "python",
   "name": "pythondata"
  },
  "language_info": {
   "codemirror_mode": {
    "name": "ipython",
    "version": 3
   },
   "file_extension": ".py",
   "mimetype": "text/x-python",
   "name": "python",
   "nbconvert_exporter": "python",
   "pygments_lexer": "ipython3",
   "version": "3.7.6"
  }
 },
 "nbformat": 4,
 "nbformat_minor": 4
}
