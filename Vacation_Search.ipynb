{
 "cells": [
  {
   "cell_type": "code",
   "execution_count": 2,
   "metadata": {},
   "outputs": [],
   "source": [
    "#import the dependencies\n",
    "import pandas as pd\n",
    "import numpy as np\n",
    "from citipy import citipy\n",
    "from datetime import datetime\n",
    "import requests\n",
    "from config import g_key\n",
    "import gmaps"
   ]
  },
  {
   "cell_type": "code",
   "execution_count": 3,
   "metadata": {},
   "outputs": [],
   "source": [
    "#store the saved CSV into a DataFrame\n",
    "city_data_df =pd.read_csv(\"weather_data/WeatherPy_challenge.csv\")"
   ]
  },
  {
   "cell_type": "code",
   "execution_count": 4,
   "metadata": {},
   "outputs": [],
   "source": [
    "#Configure gmaps to use you Google API key\n",
    "gmaps.configure(api_key=g_key)"
   ]
  },
  {
   "cell_type": "code",
   "execution_count": 5,
   "metadata": {},
   "outputs": [],
   "source": [
    "#Get the latitude and longitude\n",
    "locations = city_data_df[[\"Lat\", \"Long\"]]\n",
    "\n",
    "#Get the maximum temperature\n",
    "max_temp = city_data_df[\"Max Temp\"]\n",
    "temps=[]"
   ]
  },
  {
   "cell_type": "code",
   "execution_count": 6,
   "metadata": {},
   "outputs": [
    {
     "name": "stdout",
     "output_type": "stream",
     "text": [
      "What is the minimum temperature you would like for your trip? 50\n",
      "What is the maximum temperature you would like for your trip? 100\n",
      "Do you want it to be raining? (yes/no) no\n",
      "Do you want it to be snowing? (yes/no) no\n"
     ]
    }
   ],
   "source": [
    "#Ask the customer to add a minimum and maximum temperatu\n",
    "max_temp =re value.float(input(\"What is the minimum temperature you would like for your trip? \")) \n",
    "min_temp = float(input(\"What is the maximum temperature you would like for your trip? \"))\n",
    "rain_flag = input(\"Do you want it to be raining? (yes/no) \")\n",
    "snow_flag = input(\"Do you want it to be snowing? (yes/no) \")"
   ]
  },
  {
   "cell_type": "code",
   "execution_count": 7,
   "metadata": {},
   "outputs": [],
   "source": [
    "#Filter the dataset to find the cities that fit the criteria\n",
    "if rain_flag==\"yes\": \n",
    "    if snow_flag==\"yes\":\n",
    "        preferred_city_df = city_data_df.loc[(city_data_df[\"Max Temp\"] >= min_temp) & \n",
    "                                             (city_data_df[\"Max Temp\"]<= max_temp) &\n",
    "                                             (city_data_df[\"Rain inches (last 3 hrs)\"] > 0) & \n",
    "                                             (city_data_df[\"Snow inches (last 3 hrs)\"] > 0)]\n",
    "    else:\n",
    "        preferred_city_df = city_data_df.loc[(city_data_df[\"Max Temp\"] >= min_temp) & \n",
    "                                            (city_data_df[\"Max Temp\"]<= max_temp) &\n",
    "                                            (city_data_df[\"Rain inches (last 3 hrs)\"] > 0) & \n",
    "                                            (city_data_df[\"Snow inches (last 3 hrs)\"] == 0)]\n",
    "        \n",
    "else:\n",
    "    if snow_flag == \"yes\":\n",
    "        preferred_city_df = city_data_df.loc[(city_data_df[\"Max Temp\"] >= min_temp) & \n",
    "                                             (city_data_df[\"Max Temp\"]<= max_temp) & \n",
    "                                             (city_data_df[\"Rain inches (last 3 hrs)\"] == 0) & \n",
    "                                             (city_data_df[\"Snow inches (last 3 hrs)\"] > 0)]  \n",
    "\n",
    "    else:\n",
    "        preferred_city_df = city_data_df.loc[(city_data_df[\"Max Temp\"] >= min_temp) & \n",
    "                                             (city_data_df[\"Max Temp\"]<= max_temp) & \n",
    "                                             (city_data_df[\"Rain inches (last 3 hrs)\"] == 0) & \n",
    "                                             (city_data_df[\"Snow inches (last 3 hrs)\"] == 0)]"
   ]
  },
  {
   "cell_type": "code",
   "execution_count": 8,
   "metadata": {},
   "outputs": [],
   "source": [
    "#Create DataFram called hotel_df to store hotel names along with city, country,max temp, and coordinates\n",
    "hotels_df = preferred_city_df[[\"City\", \"Country\", \"Max Temp\", \"Lat\", \"Long\", \"Current Description\"]].copy()\n",
    "hotels_df[\"Hotel Name\"] =\"\""
   ]
  },
  {
   "cell_type": "code",
   "execution_count": 9,
   "metadata": {},
   "outputs": [],
   "source": [
    "#Set parameters to search for a hotel\n",
    "params ={\n",
    "        \"radius\":5000,\n",
    "        \"type\":\"lodging\",\n",
    "        \"key\":g_key,\n",
    "        \"location\":\",\"}"
   ]
  },
  {
   "cell_type": "code",
   "execution_count": 10,
   "metadata": {},
   "outputs": [
    {
     "name": "stdout",
     "output_type": "stream",
     "text": [
      "Hotel not found. Skipping...\n",
      "Hotel not found. Skipping...\n",
      "Hotel not found. Skipping...\n",
      "Hotel not found. Skipping...\n",
      "Hotel not found. Skipping...\n",
      "Hotel not found. Skipping...\n",
      "Hotel not found. Skipping...\n",
      "Hotel not found. Skipping...\n",
      "Hotel not found. Skipping...\n",
      "Hotel not found. Skipping...\n",
      "Hotel not found. Skipping...\n",
      "Hotel not found. Skipping...\n",
      "Hotel not found. Skipping...\n",
      "Hotel not found. Skipping...\n",
      "Hotel not found. Skipping...\n",
      "Hotel not found. Skipping...\n",
      "Hotel not found. Skipping...\n",
      "Hotel not found. Skipping...\n",
      "Hotel not found. Skipping...\n",
      "Hotel not found. Skipping...\n",
      "Hotel not found. Skipping...\n",
      "Hotel not found. Skipping...\n",
      "Hotel not found. Skipping...\n"
     ]
    }
   ],
   "source": [
    "#Iterate through the DataFrame\n",
    "for index, row in hotels_df.iterrows():\n",
    "    #Get the latitude and longitude\n",
    "    lat = row[\"Lat\"]\n",
    "    lng = row[\"Long\"]\n",
    "    \n",
    "    #Add the latitude and longitude to location key for the params dictionary\n",
    "    params[\"location\"]=f\"{lat},{lng}\"\n",
    "    \n",
    "    #Use the search terms: :\"lodging\" and our latitude and longitude\n",
    "    base_url = \"https://maps.googleapis.com/maps/api/place/nearbysearch/json\"\n",
    "    \n",
    "    #Make request and get the JSON data from the search\n",
    "    hotels = requests.get(base_url, params).json()\n",
    "    \n",
    "    #Grab the first hotel from the result and store the name\n",
    "    try:\n",
    "        hotels_df.loc[index, \"Hotel Name\"] = hotels[\"results\"][0][\"name\"]\n",
    "    except(IndexError):\n",
    "        print(\"Hotel not found. Skipping...\")"
   ]
  },
  {
   "cell_type": "code",
   "execution_count": 11,
   "metadata": {},
   "outputs": [
    {
     "data": {
      "application/vnd.jupyter.widget-view+json": {
       "model_id": "9c575129d9f34f97b51e2fe15abd69b7",
       "version_major": 2,
       "version_minor": 0
      },
      "text/plain": [
       "Figure(layout=FigureLayout(height='420px'))"
      ]
     },
     "metadata": {},
     "output_type": "display_data"
    }
   ],
   "source": [
    "#Add a heatmap of temperature for the vacation spots\n",
    "locations = hotels_df[[\"Lat\", \"Long\"]]\n",
    "max_temp = hotels_df[\"Max Temp\"]\n",
    "info_box_template= \"<dl><dt>Hotel Name</dt><dd>{Hotel Name}</dd><dt>City</dt><dd>{City}</dd><dt>Country</dt><dd>{Country}</dd><dt>Weather</dt><dd>{Current Description}</dd><dt>Max Temp</dt><dd>{Max Temp}F</dd></dl>\"\n",
    "hotels_info = [info_box_template.format(**row) for index, row in hotels_df.iterrows()]\n",
    "\n",
    "#Assign the figure variable\n",
    "fig =gmaps.figure(center=(30.0, 31.0), zoom_level=1.5)\n",
    "\n",
    "#Assign the heatmap variable\n",
    "heat_layer = gmaps.heatmap_layer(locations, weights=max_temp, \n",
    "                                 dissipating =False, max_intensity=300, point_radius=4)\n",
    "marker_layer = gmaps.marker_layer(locations, info_box_content=hotels_info)\n",
    "\n",
    "#Add the heatmap layer\n",
    "fig.add_layer(heat_layer)\n",
    "fig.add_layer(marker_layer)\n",
    "\n",
    "#Call the figure to plot the data\n",
    "fig"
   ]
  },
  {
   "cell_type": "code",
   "execution_count": 13,
   "metadata": {},
   "outputs": [],
   "source": [
    "#Create the output file (CSV)\n",
    "output_data_file = \"weather_data/WeatherPy_vacation.csv\"\n",
    "\n",
    "#Export the City data into a CSV\n",
    "hotels_df.to_csv(output_data_file, index_label =\"City_ID\")"
   ]
  },
  {
   "cell_type": "code",
   "execution_count": null,
   "metadata": {},
   "outputs": [],
   "source": []
  }
 ],
 "metadata": {
  "kernelspec": {
   "display_name": "PythonData",
   "language": "python",
   "name": "pythondata"
  },
  "language_info": {
   "codemirror_mode": {
    "name": "ipython",
    "version": 3
   },
   "file_extension": ".py",
   "mimetype": "text/x-python",
   "name": "python",
   "nbconvert_exporter": "python",
   "pygments_lexer": "ipython3",
   "version": "3.7.6"
  }
 },
 "nbformat": 4,
 "nbformat_minor": 4
}
